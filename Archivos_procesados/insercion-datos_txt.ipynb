{
 "cells": [
  {
   "cell_type": "code",
   "execution_count": 6,
   "metadata": {},
   "outputs": [
    {
     "name": "stdout",
     "output_type": "stream",
     "text": [
      "Not enough parameters for the SQL statement\n",
      "Error Code: -1\n",
      "SQLSTATE None\n",
      "Message Not enough parameters for the SQL statement\n"
     ]
    }
   ],
   "source": [
    "import mysql.connector\n",
    "\n",
    "conexion = mysql.connector.connect(user='root', password='AlumnaAdalab',\n",
    "                                   host='127.0.0.1', database='proyecto')\n",
    "\n",
    "micursor = conexion.cursor()\n",
    "\n",
    "sql = \"INSERT INTO tabla_txt (index_txt, index_sql, q3, q4, q5, q6, q7, q8, q9, q11, q12, q13, q14, q15, q16, q17, q20, q21, q22, q23, q24, q25, q26, q32, q33, q34, q35, q41) VALUES (%s, %s, %s, %s, %s, %s, %s, %s, %s, %s, %s, %s, %s, %s, %s, %s, %s, %s, %s, %s, %s, %s, %s, %s, %s, %s, %s, %s)\"\n",
    "\n",
    "try:\n",
    "    micursor.executemany(sql, datos_limpios_txt)\n",
    "    conexion.commit()\n",
    "    print(micursor.rowcount, \"registro/s insertado/s.\")\n",
    "except mysql.connector.Error as err:\n",
    "    print(err)\n",
    "    print(\"Error Code:\", err.errno)\n",
    "    print(\"SQLSTATE\", err.sqlstate)\n",
    "    print(\"Message\", err.msg)\n",
    "\n",
    "conexion.close()\n"
   ]
  }
 ],
 "metadata": {
  "kernelspec": {
   "display_name": "Python 3",
   "language": "python",
   "name": "python3"
  },
  "language_info": {
   "codemirror_mode": {
    "name": "ipython",
    "version": 3
   },
   "file_extension": ".py",
   "mimetype": "text/x-python",
   "name": "python",
   "nbconvert_exporter": "python",
   "pygments_lexer": "ipython3",
   "version": "3.10.10"
  },
  "orig_nbformat": 4
 },
 "nbformat": 4,
 "nbformat_minor": 2
}
