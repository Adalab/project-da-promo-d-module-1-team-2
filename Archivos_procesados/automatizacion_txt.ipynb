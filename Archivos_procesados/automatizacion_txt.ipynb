{
 "cells": [
  {
   "cell_type": "code",
   "execution_count": 5,
   "metadata": {},
   "outputs": [],
   "source": [
    "\n",
    "class Automatizacion_txt:\n",
    "\n",
    "   \n",
    "    def __init__(self, ruta, nombre_fichero_txt):\n",
    "\n",
    "        self.ruta = ruta\n",
    "        self.nombre_fichero_txt = nombre_fichero_txt\n",
    "\n",
    "    def abrir_txt(self):\n",
    "\n",
    "        with open(f\"{self.ruta}/{self.nombre_fichero_txt}.txt\",'r') as file:\n",
    "            file_source = file.readlines()\n",
    "\n",
    "    def limpieza_txt(file_source):\n",
    "\n",
    "        sin_saltos_de_linea = []\n",
    "\n",
    "        for lista in file_source:\n",
    "\n",
    "            if '\\n' in lista:\n",
    "             sin_saltos_de_linea.append(lista.replace('\\n', \"\"))\n",
    "\n",
    "\n",
    "        under_cambiado = []\n",
    "\n",
    "        for lista in sin_saltos_de_linea:\n",
    "\n",
    "            if '<' in lista:\n",
    "                under_cambiado.append(lista.replace('<', \"under\"))\n",
    "        \n",
    "            else:\n",
    "                under_cambiado.append(lista)\n",
    "\n",
    "        null_cambiado = []\n",
    "\n",
    "        for lista in under_cambiado:\n",
    "\n",
    "            if 'null' in lista:\n",
    "                null_cambiado.append(lista.replace('null', \"NULL\"))\n",
    "                \n",
    "            else:\n",
    "                null_cambiado.append(lista)\n",
    "\n",
    "\n",
    "        lista_separada = []\n",
    "\n",
    "        for fila in null_cambiado:\n",
    "\n",
    "            separacion = fila.split(\";\")\n",
    "            lista_separada.append(separacion)\n",
    "\n",
    "\n",
    "\n",
    "\n",
    "        txt_procesado = []\n",
    "\n",
    "        for fila in lista_separada:\n",
    "\n",
    "                fila_sin_espacios = []\n",
    "\n",
    "                for elem in fila:\n",
    "                        \n",
    "                        elem_sin_espacios = []\n",
    "\n",
    "                        elem = elem.strip()\n",
    "\n",
    "                        elem_lista = elem.split()\n",
    "\n",
    "                        for palabra in elem_lista:\n",
    "\n",
    "                                elem_sin_espacios.append(\"\".join((palabra.strip())))\n",
    "\n",
    "                        fila_sin_espacios.append(\" \".join(elem_sin_espacios))\n",
    "\n",
    "                                \n",
    "                txt_procesado.append(fila_sin_espacios)  \n",
    "\n",
    "        return txt_procesado\n",
    "\n"
   ]
  },
  {
   "cell_type": "code",
   "execution_count": 6,
   "metadata": {},
   "outputs": [],
   "source": [
    "prueba = Automatizacion_txt(\"../Archivos_originales\", \"data_txt\")"
   ]
  },
  {
   "cell_type": "code",
   "execution_count": 7,
   "metadata": {},
   "outputs": [
    {
     "data": {
      "text/plain": [
       "<__main__.Automatizacion_txt at 0x7f32d4764940>"
      ]
     },
     "execution_count": 7,
     "metadata": {},
     "output_type": "execute_result"
    }
   ],
   "source": [
    "prueba"
   ]
  }
 ],
 "metadata": {
  "kernelspec": {
   "display_name": "adalabenv",
   "language": "python",
   "name": "python3"
  },
  "language_info": {
   "codemirror_mode": {
    "name": "ipython",
    "version": 3
   },
   "file_extension": ".py",
   "mimetype": "text/x-python",
   "name": "python",
   "nbconvert_exporter": "python",
   "pygments_lexer": "ipython3",
   "version": "3.10.9"
  },
  "orig_nbformat": 4
 },
 "nbformat": 4,
 "nbformat_minor": 2
}
