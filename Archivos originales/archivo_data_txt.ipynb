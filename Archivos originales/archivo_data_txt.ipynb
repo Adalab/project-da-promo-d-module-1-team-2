{
 "cells": [
  {
   "cell_type": "code",
   "execution_count": 1,
   "metadata": {},
   "outputs": [],
   "source": [
    "with open('data_txt.txt','r') as file:\n",
    "    file_source = file.readlines()"
   ]
  },
  {
   "cell_type": "code",
   "execution_count": 12,
   "metadata": {},
   "outputs": [
    {
     "data": {
      "text/plain": [
       "'2;Pakistan;Master’s degree;Software Engineer;1-3 years;Python, C++, Java;Python;null,  PyCharm ,  Jupyter Notebook, Other;A laptop;null, Other;Never; Matplotlib ;I do not use machine learning methods;;;Academics/Education;1000-9,999 employees;0;I do not know;null, None of these activities are an important part of my role at work;$0-999;$0 ($USD);MySQL , MongoDB ;MySQL ;null, None;;Basic statistical software (Microsoft Excel, Google Sheets, etc.)\\n'"
      ]
     },
     "execution_count": 12,
     "metadata": {},
     "output_type": "execute_result"
    }
   ],
   "source": [
    "file_source[2]"
   ]
  },
  {
   "cell_type": "code",
   "execution_count": 24,
   "metadata": {},
   "outputs": [
    {
     "name": "stdout",
     "output_type": "stream",
     "text": [
      "107\n",
      "643\n",
      "450\n",
      "584\n",
      "848\n"
     ]
    }
   ],
   "source": [
    "print(len(file_source[0]))\n",
    "print(len(file_source[1]))\n",
    "print(len(file_source[2]))\n",
    "print(len(file_source[3]))\n",
    "print(len(file_source[4]))"
   ]
  },
  {
   "cell_type": "code",
   "execution_count": 27,
   "metadata": {},
   "outputs": [
    {
     "name": "stdout",
     "output_type": "stream",
     "text": [
      "index_sql;Q3;Q4;Q5;Q6;Q7;Q8;Q9;Q11;Q12;Q13;Q14;Q15;Q16;Q17;Q20;Q21;Q22;Q23;Q24;Q25;Q26;Q32;Q33;Q34;Q35;Q41\n",
      "\n",
      "1;Indonesia;Master’s degree;Program/Project Manager;20+ years;null, SQL, C, C++, Java;Python;null,   Notepad++  ,  Jupyter Notebook;A cloud computing platform (AWS, Azure, GCP, hosted notebooks, etc);null, None;Never; Matplotlib ;Under 1 year;  Scikit-learn ;Linear or Logistic Regression, Decision Trees or Random Forests;Manufacturing/Fabrication;1000-9,999 employees;1-2;We are exploring ML methods (and may one day put a model into production);null, Build and/or run the data infrastructure that my business uses for storing, analyzing, and operationalizing data;60,000-69,999;$0 ($USD);;;;;Advanced statistical software (SPSS, SAS, etc.)\n",
      "\n"
     ]
    }
   ],
   "source": [
    "print(file_source[0])\n",
    "print(file_source[1])"
   ]
  },
  {
   "cell_type": "code",
   "execution_count": 28,
   "metadata": {},
   "outputs": [],
   "source": [
    "file_source_strings = []\n",
    "\n",
    "for x in file_source:\n",
    "    spliteado = x.split(\";\")\n",
    "    file_source_strings.append(spliteado)\n",
    "\n"
   ]
  },
  {
   "cell_type": "code",
   "execution_count": 32,
   "metadata": {},
   "outputs": [
    {
     "name": "stdout",
     "output_type": "stream",
     "text": [
      "[['index_sql', 'Q3', 'Q4', 'Q5', 'Q6', 'Q7', 'Q8', 'Q9', 'Q11', 'Q12', 'Q13', 'Q14', 'Q15', 'Q16', 'Q17', 'Q20', 'Q21', 'Q22', 'Q23', 'Q24', 'Q25', 'Q26', 'Q32', 'Q33', 'Q34', 'Q35', 'Q41\\n'], ['1', 'Indonesia', 'Master’s degree', 'Program/Project Manager', '20+ years', 'null, SQL, C, C++, Java', 'Python', 'null,   Notepad++  ,  Jupyter Notebook', 'A cloud computing platform (AWS, Azure, GCP, hosted notebooks, etc)', 'null, None', 'Never', ' Matplotlib ', 'Under 1 year', '  Scikit-learn ', 'Linear or Logistic Regression, Decision Trees or Random Forests', 'Manufacturing/Fabrication', '1000-9,999 employees', '1-2', 'We are exploring ML methods (and may one day put a model into production)', 'null, Build and/or run the data infrastructure that my business uses for storing, analyzing, and operationalizing data', '60,000-69,999', '$0 ($USD)', '', '', '', '', 'Advanced statistical software (SPSS, SAS, etc.)\\n']]\n"
     ]
    }
   ],
   "source": [
    "print(file_source_strings)"
   ]
  },
  {
   "cell_type": "code",
   "execution_count": 31,
   "metadata": {},
   "outputs": [],
   "source": [
    "for i in file_source_strings:\n",
    "        \n",
    "        for elem in i:\n",
    "                elem.strip()\n",
    "                \n",
    "        "
   ]
  }
 ],
 "metadata": {
  "kernelspec": {
   "display_name": "adalabenv",
   "language": "python",
   "name": "python3"
  },
  "language_info": {
   "codemirror_mode": {
    "name": "ipython",
    "version": 3
   },
   "file_extension": ".py",
   "mimetype": "text/x-python",
   "name": "python",
   "nbconvert_exporter": "python",
   "pygments_lexer": "ipython3",
   "version": "3.10.9"
  },
  "orig_nbformat": 4,
  "vscode": {
   "interpreter": {
    "hash": "0b8bbabd87d3ce636409443d1398e5656bf795e33c753b5e821c4b969f4e6c41"
   }
  }
 },
 "nbformat": 4,
 "nbformat_minor": 2
}
